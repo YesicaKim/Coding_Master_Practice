{
 "cells": [
  {
   "cell_type": "markdown",
   "metadata": {},
   "source": [
    "### 104. Maximum Depth of Binary Tree\n",
    "\n",
    "Given the root of a binary tree, return its maximum depth.\n",
    "\n",
    "A binary tree's maximum depth is the number of nodes along the longest path from the root node down to the farthest leaf node.\n",
    "\n",
    "\n",
    "![title](tmp-tree.jpg)\n",
    "\n",
    "#### Example 1:\n",
    "\n",
    "Input: root = [3,9,20,null,null,15,7]\n",
    "Output: 3\n",
    "\n",
    "#### Example 2:\n",
    "\n",
    "Input: root = [1,null,2]\n",
    "Output: 2\n",
    "\n",
    "### Example 3:\n",
    "\n",
    "Input: root = []\n",
    "Output: 0\n",
    "\n",
    "#### Example 4:\n",
    "\n",
    "Input: root = [0]\n",
    "Output: 1\n",
    " \n",
    "#### Constraints:\n",
    "\n",
    "The number of nodes in the tree is in the range [0, 104].\n",
    "-100 <= Node.val <= 100\n"
   ]
  },
  {
   "cell_type": "code",
   "execution_count": null,
   "metadata": {},
   "outputs": [],
   "source": [
    "class Solution:\n",
    "    def maxDepth(self, root: TreeNode) -> int: \n",
    "        if not root:\n",
    "            return 0\n",
    "        return 1 + max(self.maxDepth(root.left), self.maxDepth(root.right))"
   ]
  },
  {
   "cell_type": "code",
   "execution_count": null,
   "metadata": {},
   "outputs": [],
   "source": [
    "class Solution:\n",
    "    def __init__(self):\n",
    "        self.max_depth = 0\n",
    "\n",
    "    def dfs(self, node: TreeNode, depth):\n",
    "        if not node:\n",
    "            return\n",
    "        if self.max_depth < depth:\n",
    "            self.max_depth = depth\n",
    "        if node.left:\n",
    "            self.dfs(node.left, depth + 1)\n",
    "        if node.right:\n",
    "            self.dfs(node.right, depth + 1)\n",
    "\n",
    "    def maxDepth(self, root: TreeNode) -> int:\n",
    "        if not root:\n",
    "            return 0\n",
    "        self.dfs(root, 1)\n",
    "        return self.max_depth"
   ]
  },
  {
   "cell_type": "code",
   "execution_count": null,
   "metadata": {},
   "outputs": [],
   "source": [
    "# Definition for a binary tree node.\n",
    "# class TreeNode:\n",
    "#     def __init__(self, val=0, left=None, right=None):\n",
    "#         self.val = val\n",
    "#         self.left = left\n",
    "#         self.right = right\n",
    "class Solution:\n",
    "    def __init__(self):\n",
    "        self.ans = 0\n",
    "    def maxDepth(self, root: TreeNode) -> int:\n",
    "        def helper(node, depth):\n",
    "        \n",
    "            if not node:\n",
    "                return \n",
    "\n",
    "            if not node.left and not node.right:\n",
    "                self.ans = max(self.ans, depth)\n",
    "            \n",
    "            helper(node.left, depth+1)\n",
    "            helper(node.right, depth+1)\n",
    "            \n",
    "        \n",
    "        helper(root, 1)\n",
    "        return self.ans"
   ]
  },
  {
   "cell_type": "code",
   "execution_count": null,
   "metadata": {},
   "outputs": [],
   "source": [
    "# Definition for a binary tree node.\n",
    "# class TreeNode:\n",
    "#     def __init__(self, val=0, left=None, right=None):\n",
    "#         self.val = val\n",
    "#         self.left = left\n",
    "#         self.right = right\n",
    "class Solution:\n",
    "    def maxDepth(self, root: TreeNode) -> int:\n",
    "        def checkdp(root):\n",
    "            if root == None:\n",
    "                return 0\n",
    "            l = checkdp(root.left)\n",
    "            r = checkdp(root.right)\n",
    "            \n",
    "            return 1 + max(l, r)\n",
    "        \n",
    "        return checkdp(root)"
   ]
  },
  {
   "cell_type": "code",
   "execution_count": null,
   "metadata": {},
   "outputs": [],
   "source": [
    "# Definition for a binary tree node.\n",
    "# class TreeNode:\n",
    "#     def __init__(self, val=0, left=None, right=None):\n",
    "#         self.val = val\n",
    "#         self.left = left\n",
    "#         self.right = right\n",
    "class Solution:\n",
    "    def maxDepth(self, root: TreeNode) -> int:\n",
    "        if not root: return 0\n",
    "        \n",
    "        else: return max(self.maxDepth(root.left) + 1 , self.maxDepth(root.right) + 1)"
   ]
  }
 ],
 "metadata": {
  "kernelspec": {
   "display_name": "aiffel",
   "language": "python",
   "name": "aiffel"
  },
  "language_info": {
   "codemirror_mode": {
    "name": "ipython",
    "version": 3
   },
   "file_extension": ".py",
   "mimetype": "text/x-python",
   "name": "python",
   "nbconvert_exporter": "python",
   "pygments_lexer": "ipython3",
   "version": "3.7.6"
  }
 },
 "nbformat": 4,
 "nbformat_minor": 4
}
