{
 "cells": [
  {
   "cell_type": "markdown",
   "metadata": {},
   "source": [
    "### 121. Best Time to Buy and Sell Stock\n",
    "\n",
    "Say you have an array for which the ith element is the price of a given stock on day i.\n",
    "\n",
    "If you were only permitted to complete at most one transaction (i.e., buy one and sell one share of the stock), design an algorithm to find the maximum profit.\n",
    "\n",
    "Note that you cannot sell a stock before you buy one.\n",
    "\n",
    "#### Example 1:\n",
    "\n",
    "- Input: [7,1,5,3,6,4]\n",
    "- Output: 5\n",
    "- Explanation: Buy on day 2 (price = 1) and sell on day 5 (price = 6), profit = 6-1 = 5. Not 7-1 = 6, as selling price needs to be larger than buying price.\n",
    "\n",
    "#### Example 2:\n",
    "\n",
    "- Input: [7,6,4,3,1]\n",
    "- Output: 0\n",
    "- Explanation: In this case, no transaction is done, i.e. max profit = 0."
   ]
  },
  {
   "cell_type": "code",
   "execution_count": 6,
   "metadata": {},
   "outputs": [
    {
     "name": "stdout",
     "output_type": "stream",
     "text": [
      "5\n"
     ]
    }
   ],
   "source": [
    "from typing import *\n",
    "import heapq\n",
    "\n",
    "class Solution:\n",
    "    def maxProfit(self, prices: List[int]) -> int:\n",
    "        if len(prices) < 2:\n",
    "            return 0\n",
    "        \n",
    "        my_heapq = []\n",
    "        \n",
    "        profit = 0\n",
    "        \n",
    "        for price in prices:\n",
    "            heapq.heappush(my_heapq, price)\n",
    "            if price - my_heapq[0] > profit:\n",
    "                profit = price - my_heapq[0]\n",
    "                \n",
    "        return profit\n",
    "        \n",
    "if __name__==\"__main__\":\n",
    "    List = [7,1,5,3,6,4]\n",
    "    print(Solution().maxProfit(List))"
   ]
  },
  {
   "cell_type": "code",
   "execution_count": 7,
   "metadata": {},
   "outputs": [],
   "source": [
    "List = [7,1,5,3,6,4]"
   ]
  },
  {
   "cell_type": "code",
   "execution_count": 8,
   "metadata": {},
   "outputs": [
    {
     "data": {
      "text/plain": [
       "[7, 1, 5, 3, 6, 4]"
      ]
     },
     "execution_count": 8,
     "metadata": {},
     "output_type": "execute_result"
    }
   ],
   "source": [
    "List"
   ]
  },
  {
   "cell_type": "code",
   "execution_count": 9,
   "metadata": {},
   "outputs": [
    {
     "name": "stdout",
     "output_type": "stream",
     "text": [
      "0\n"
     ]
    }
   ],
   "source": [
    "from typing import *\n",
    "'''\n",
    "주식 Profit 최대화\n",
    "1. buy 한 번\n",
    "2. sell 한 번\n",
    ": 가장 쌀 때 사서, 가장 비쌀 때 팔면 됨 ->\n",
    "input은 list로 주어짐\n",
    "'''\n",
    "class Solution:\n",
    "    def maxProfit(self, prices: List[int]) -> int:\n",
    "        # 처음 시작 profit => 0 buy도 sell도 없기 때문에\n",
    "        profit = 0\n",
    "        # 최소 가격 초기값 설정\n",
    "        min_price = 99999999\n",
    "        # 주어진 가격은 전부 확인하면서 가장 작은 가격을 찾음\n",
    "        # 현재가격에서 가장 작은 가격을 뺐을 때의 값이 가장 크면 그것이 정답 -> 이익의 최대화\n",
    "        for price in prices:\n",
    "            # 현재 가격이 최소 가격보다 작으면 최소 가격을 현재 가격으로 바꾸어 줌\n",
    "            if price < min_price:\n",
    "                min_price = price\n",
    "            # 이익 => 현재 가격에서 최소 가격을 뺀 이익과, 현재 이익 중에서 큰 값\n",
    "            profit = max(profit, price - min_price)\n",
    "        return profit\n",
    "if __name__ == \"__main__\":\n",
    "    # example 데이터\n",
    "    # [7,1,5,3,6,4],\n",
    "    input_data = [7,6,4,3,1]\n",
    "    solution = Solution()\n",
    "    # 알고리즘 테스트\n",
    "    answer = solution.maxProfit(input_data)\n",
    "    print(answer)"
   ]
  },
  {
   "cell_type": "code",
   "execution_count": null,
   "metadata": {},
   "outputs": [],
   "source": []
  }
 ],
 "metadata": {
  "kernelspec": {
   "display_name": "aiffel",
   "language": "python",
   "name": "aiffel"
  },
  "language_info": {
   "codemirror_mode": {
    "name": "ipython",
    "version": 3
   },
   "file_extension": ".py",
   "mimetype": "text/x-python",
   "name": "python",
   "nbconvert_exporter": "python",
   "pygments_lexer": "ipython3",
   "version": "3.7.6"
  }
 },
 "nbformat": 4,
 "nbformat_minor": 4
}
