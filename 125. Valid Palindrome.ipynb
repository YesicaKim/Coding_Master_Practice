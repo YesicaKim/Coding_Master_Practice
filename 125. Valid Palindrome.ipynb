{
 "cells": [
  {
   "cell_type": "markdown",
   "metadata": {},
   "source": [
    "### 125. Valid Palindrome\n",
    "\n",
    "Given a string, determine if it is a palindrome, considering only alphanumeric characters and ignoring cases.\n",
    "\n",
    "Note: For the purpose of this problem, we define empty string as valid palindrome.\n",
    "\n",
    "#### Example 1:\n",
    "\n",
    "- Input: \"A man, a plan, a canal: Panama\"\n",
    "- Output: true\n",
    "\n",
    "#### Example 2:\n",
    "\n",
    "- Input: \"race a car\"\n",
    "- Output: false"
   ]
  },
  {
   "cell_type": "code",
   "execution_count": 4,
   "metadata": {},
   "outputs": [
    {
     "name": "stdout",
     "output_type": "stream",
     "text": [
      "True\n"
     ]
    }
   ],
   "source": [
    "# 125\n",
    "'''\n",
    "토마토 \n",
    "considering only alphanumeric characters\n",
    "empty string as valid palindrome\n",
    "'''\n",
    "from typing import *\n",
    "\n",
    "from collections import deque\n",
    "class Solution:\n",
    "    def isPalindrome(self, s: str) -> bool:\n",
    "        # 소문자로 만들기\n",
    "        s = s.lower()\n",
    "        # 문자를 넣을 deque 생성\n",
    "        strings = deque()\n",
    "        \n",
    "        # 반복문을 실행해서 하나씩 문자를 꺼내오기\n",
    "        for c in s:\n",
    "            # c 문자 하나가 alphanumeric 이면 True \n",
    "            # True is True 되면 조건문이 실행\n",
    "            if c.isalnum() is True:\n",
    "                # deque에다가 넣어줍니다\n",
    "                strings.append(c)\n",
    "        while len(strings) >= 2:\n",
    "            # 양쪽에서 하나씩 뽑았을 때 다르면 palindrome이 아님\n",
    "            if strings.popleft() != strings.pop():\n",
    "                return False\n",
    "        return True\n",
    "    \n",
    "if __name__==\"__main__\":\n",
    "    s = \"A man, a plan, a canal: Panama\"\n",
    "    print(Solution().isPalindrome(s))"
   ]
  },
  {
   "cell_type": "code",
   "execution_count": 5,
   "metadata": {},
   "outputs": [
    {
     "name": "stdout",
     "output_type": "stream",
     "text": [
      "True\n"
     ]
    }
   ],
   "source": [
    "from typing import *\n",
    "\n",
    "class Solution:\n",
    "    def isPalindrome(self, s: str) -> bool:\n",
    "        s = [i.lower() for i in s if i.isalnum()]\n",
    "        return s == s[::-1]\n",
    "if __name__==\"__main__\":\n",
    "    s = \"A man, a plan, a canal: Panama\"\n",
    "    print(Solution().isPalindrome(s))"
   ]
  },
  {
   "cell_type": "code",
   "execution_count": null,
   "metadata": {},
   "outputs": [],
   "source": []
  }
 ],
 "metadata": {
  "kernelspec": {
   "display_name": "aiffel",
   "language": "python",
   "name": "aiffel"
  },
  "language_info": {
   "codemirror_mode": {
    "name": "ipython",
    "version": 3
   },
   "file_extension": ".py",
   "mimetype": "text/x-python",
   "name": "python",
   "nbconvert_exporter": "python",
   "pygments_lexer": "ipython3",
   "version": "3.7.6"
  }
 },
 "nbformat": 4,
 "nbformat_minor": 4
}
