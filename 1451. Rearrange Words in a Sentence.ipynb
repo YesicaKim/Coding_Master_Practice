{
 "cells": [
  {
   "cell_type": "markdown",
   "metadata": {},
   "source": [
    "### 1451. Rearrange Words in a Sentence\n",
    "\n",
    "Given a sentence text (A sentence is a string of space-separated words) in the following format:\n",
    "\n",
    "First letter is in upper case.\n",
    "Each word in text are separated by a single space.\n",
    "Your task is to rearrange the words in text such that all words are rearranged in an increasing order of their lengths. If two words have the same length, arrange them in their original order.\n",
    "\n",
    "Return the new text following the format shown above.\n",
    "\n",
    " \n",
    "#### Example 1:\n",
    "\n",
    "- Input: text = \"Leetcode is cool\"\n",
    "- Output: \"Is cool leetcode\"\n",
    "- Explanation: There are 3 words, \"Leetcode\" of length 8, \"is\" of length 2 and \"cool\" of length 4.\n",
    "- Output is ordered by length and the new first word starts with capital letter.\n",
    "\n",
    "#### Example 2:\n",
    "\n",
    "- Input: text = \"Keep calm and code on\"\n",
    "- Output: \"On and keep calm code\"\n",
    "- Explanation: Output is ordered as follows:\n",
    "- \"On\" 2 letters.\n",
    "- \"and\" 3 letters.\n",
    "- \"keep\" 4 letters in case of tie order by position in original text.\n",
    "- \"calm\" 4 letters.\n",
    "- \"code\" 4 letters.\n",
    "\n",
    "#### Example 3:\n",
    "\n",
    "- Input: text = \"To be or not to be\"\n",
    "- Output: \"To be or to be not\"\n",
    " \n",
    "\n",
    "#### Constraints:\n",
    "\n",
    "- text begins with a capital letter and then contains lowercase letters and single space between words.\n",
    "- 1 <= text.length <= 10^5\n"
   ]
  },
  {
   "cell_type": "code",
   "execution_count": 1,
   "metadata": {},
   "outputs": [],
   "source": [
    "class Solution:\n",
    "    def arrangeWords(self, text: str) -> str:\n",
    "        text=text.split()\n",
    "        text=sorted(text,key=len)\n",
    "        text= ' '.join(text)\n",
    "        return text.capitalize() "
   ]
  },
  {
   "cell_type": "code",
   "execution_count": 2,
   "metadata": {},
   "outputs": [],
   "source": [
    "class Solution:\n",
    "    def arrangeWords(self, text: str) -> str:\n",
    "        sol = list(text.lower().split(' '))\n",
    "        sol.sort(key=len)\n",
    "        sol[0] = sol[0].title()\n",
    "        return ' '.join(sol)"
   ]
  },
  {
   "cell_type": "code",
   "execution_count": 1,
   "metadata": {},
   "outputs": [],
   "source": [
    "class Solution:\n",
    "    def arrangeWords(self, text: str) -> str:\n",
    "        return \" \".join(sorted(text.split(\" \"), key=len)).capitalize()"
   ]
  },
  {
   "cell_type": "code",
   "execution_count": null,
   "metadata": {},
   "outputs": [],
   "source": []
  }
 ],
 "metadata": {
  "kernelspec": {
   "display_name": "aiffel",
   "language": "python",
   "name": "aiffel"
  },
  "language_info": {
   "codemirror_mode": {
    "name": "ipython",
    "version": 3
   },
   "file_extension": ".py",
   "mimetype": "text/x-python",
   "name": "python",
   "nbconvert_exporter": "python",
   "pygments_lexer": "ipython3",
   "version": "3.7.6"
  }
 },
 "nbformat": 4,
 "nbformat_minor": 4
}
