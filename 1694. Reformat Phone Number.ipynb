{
 "cells": [
  {
   "cell_type": "markdown",
   "metadata": {},
   "source": [
    "### 1694. Reformat Phone Number\n",
    "\n",
    "You are given a phone number as a string number. number consists of digits, spaces ' ', and/or dashes '-'.\n",
    "\n",
    "You would like to reformat the phone number in a certain manner. Firstly, remove all spaces and dashes. Then, group the digits from left to right into blocks of length 3 until there are 4 or fewer digits. The final digits are then grouped as follows:\n",
    "\n",
    "2 digits: A single block of length 2.\n",
    "3 digits: A single block of length 3.\n",
    "4 digits: Two blocks of length 2 each.\n",
    "The blocks are then joined by dashes. Notice that the reformatting process should never produce any blocks of length 1 and produce at most two blocks of length 2.\n",
    "\n",
    "Return the phone number after formatting.\n",
    "\n",
    "#### Example 1:\n",
    "\n",
    "- Input: number = \"1-23-45 6\"\n",
    "- Output: \"123-456\"\n",
    "- Explanation: The digits are \"123456\".\n",
    "- Step 1: There are more than 4 digits, so group the next 3 digits. The 1st block is \"123\".\n",
    "- Step 2: There are 3 digits remaining, so put them in a single block of length 3. The 2nd block is \"456\".\n",
    "- Joining the blocks gives \"123-456\".\n",
    "\n",
    "#### Example 2:\n",
    "\n",
    "- Input: number = \"123 4-567\"\n",
    "- Output: \"123-45-67\"\n",
    "- Explanation: The digits are \"1234567\".\n",
    "- Step 1: There are more than 4 digits, so group the next 3 digits. The 1st block is \"123\".\n",
    "- Step 2: There are 4 digits left, so split them into two blocks of length 2. The blocks are \"45\" and \"67\".\n",
    "- Joining the blocks gives \"123-45-67\".\n",
    "\n",
    "#### Example 3:\n",
    "\n",
    "- Input: number = \"123 4-5678\"\n",
    "- Output: \"123-456-78\"\n",
    "- Explanation: The digits are \"12345678\".\n",
    "- Step 1: The 1st block is \"123\".\n",
    "- Step 2: The 2nd block is \"456\".\n",
    "- Step 3: There are 2 digits left, so put them in a single block of length 2. The 3rd block is \"78\".\n",
    "- Joining the blocks gives \"123-456-78\".\n",
    "\n",
    "#### Example 4:\n",
    "\n",
    "- Input: number = \"12\"\n",
    "- Output: \"12\"\n",
    "\n",
    "#### Example 5:\n",
    "\n",
    "- Input: number = \"--17-5 229 35-39475 \"\n",
    "- Output: \"175-229-353-94-75\"\n",
    "\n",
    "#### Constraints:\n",
    "\n",
    "- 2 <= number.length <= 100\n",
    "- number consists of digits and the characters '-' and ' '.\n",
    "- There are at least two digits in number."
   ]
  },
  {
   "cell_type": "code",
   "execution_count": 2,
   "metadata": {},
   "outputs": [
    {
     "name": "stdout",
     "output_type": "stream",
     "text": [
      "['123', '456', '7']\n",
      "\n",
      "before res[-2][-1] =======>  6\n",
      "before res[-1] =======>  7\n",
      "after res[-1] =======>  67\n",
      "\n",
      "before res[-2] =======>  456\n",
      "before res[-2][:2] =======>  45\n",
      "after res[-2] =======>  45\n",
      "123-45-67\n"
     ]
    }
   ],
   "source": [
    "from typing import *\n",
    "\n",
    "class Solution:\n",
    "    def reformatNumber(self, number: str) -> str:\n",
    "        number = number.replace(' ', '').replace('-', '')\n",
    "        res = []\n",
    "        \n",
    "        while len(number) > 0:             # 스트링을 3개씩 자른다\n",
    "            res.append(number[ : 3])\n",
    "            number = number[3 : ]\n",
    "            \n",
    "        print(res)\n",
    "        \n",
    "        if len(res[-1]) == 1:                                    # 만약에 마지막 스트링이 1개라면 \n",
    "            print(\"\\nbefore res[-2][-1] =======> \", res[-2][-1])  # 바로 앞 스트링의 마지막 글자와  '6'\n",
    "            print(\"before res[-1] =======> \", res[-1])            # 이 한개짜리 스트링을   '7'\n",
    "            res[-1] = res[-2][-1] + res[-1]\n",
    "            print(\"after res[-1] =======> \", res[-1])             # 붙여서 2개로 만들고  '67'\n",
    "            \n",
    "            print(\"\\nbefore res[-2] =======> \", res[-2])          # 바로 앞 스트링은 원래 3글자였는데 '456'\n",
    "            print(\"before res[-2][:2] =======> \", res[-2][:2])    # 바로 앞 스트링을 2개만 자른 값으로 '45'\n",
    "            res[-2] = res[-2][:2]\n",
    "            print(\"after res[-2] =======> \", res[-2])             # 바로 앞 스트링을 업데이트 해준다 '45' \n",
    "        \n",
    "        return '-'.join(res)\n",
    "    \n",
    "if __name__==\"__main__\":\n",
    "    number = \"123 4-567\"\n",
    "    print(Solution().reformatNumber(number))"
   ]
  },
  {
   "cell_type": "code",
   "execution_count": 2,
   "metadata": {},
   "outputs": [],
   "source": [
    "class Solution:\n",
    "    def reformatNumber(self, number: str) -> str:\n",
    "        buffer = ''\n",
    "        res = []\n",
    "        for num in number:\n",
    "            if num not in [' ', '-']:\n",
    "                buffer += num\n",
    "                if len(buffer) == 3:\n",
    "                    res.append(buffer)\n",
    "                    buffer = ''\n",
    "        if len(buffer) == 1:\n",
    "            buffer = res[-1][-1] + buffer\n",
    "            res[-1] = res[-1][: 2]\n",
    "            res.append(buffer)\n",
    "        elif len(buffer) != 0:\n",
    "            res.append(buffer)\n",
    "        \n",
    "        return '-'.join(res)"
   ]
  },
  {
   "cell_type": "code",
   "execution_count": 3,
   "metadata": {},
   "outputs": [],
   "source": [
    "class Solution:\n",
    "    def reformatNumber(self, number: str) -> str:\n",
    "        return re.sub('(...?(?=..))', r'\\1-', re.sub('\\D', '', number))"
   ]
  },
  {
   "cell_type": "code",
   "execution_count": null,
   "metadata": {},
   "outputs": [],
   "source": []
  }
 ],
 "metadata": {
  "kernelspec": {
   "display_name": "aiffel",
   "language": "python",
   "name": "aiffel"
  },
  "language_info": {
   "codemirror_mode": {
    "name": "ipython",
    "version": 3
   },
   "file_extension": ".py",
   "mimetype": "text/x-python",
   "name": "python",
   "nbconvert_exporter": "python",
   "pygments_lexer": "ipython3",
   "version": "3.7.6"
  }
 },
 "nbformat": 4,
 "nbformat_minor": 4
}
