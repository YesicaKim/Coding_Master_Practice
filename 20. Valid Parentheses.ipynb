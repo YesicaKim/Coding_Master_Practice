{
 "cells": [
  {
   "cell_type": "markdown",
   "metadata": {},
   "source": [
    "### 20. Valid Parentheses\n",
    "\n",
    "Given a string s containing just the characters '(', ')', '{', '}', '[' and ']', determine if the input string is valid.\n",
    "\n",
    "An input string is valid if:\n",
    "\n",
    "Open brackets must be closed by the same type of brackets.\n",
    "Open brackets must be closed in the correct order.\n",
    " \n",
    "\n",
    "#### Example 1:\n",
    "```\n",
    "Input: s = \"()\"\n",
    "Output: true\n",
    "```\n",
    "#### Example 2:\n",
    "```\n",
    "Input: s = \"()[]{}\"\n",
    "Output: true\n",
    "```\n",
    "#### Example 3:\n",
    "```\n",
    "Input: s = \"(]\"\n",
    "Output: false\n",
    "```\n",
    "#### Example 4:\n",
    "```\n",
    "Input: s = \"([)]\"\n",
    "Output: false\n",
    "```\n",
    "#### Example 5:\n",
    "```\n",
    "Input: s = \"{[]}\"\n",
    "Output: true\n",
    "```\n",
    "#### Constraints:\n",
    "```\n",
    "1 <= s.length <= 104\n",
    "s consists of parentheses only '()[]{}'.\n",
    "```"
   ]
  },
  {
   "cell_type": "code",
   "execution_count": 1,
   "metadata": {},
   "outputs": [],
   "source": [
    "class Solution:\n",
    "    def isValid(self, s: str) -> bool:\n",
    "        s_list = list(s) \n",
    "        \n",
    "        answer = True \n",
    "        \n",
    "        stack = [] \n",
    "        \n",
    "        for s in s_list: \n",
    "            if s == '[' or s == '(' or s == '{': \n",
    "                stack.append(s) \n",
    "            elif len(stack) != 0: \n",
    "                if (s == ']' and stack[-1] == '[') or (s == '}' and stack[-1] == '{') or (s == ')' and stack[-1] == '('): \n",
    "                    stack.pop() \n",
    "                else: \n",
    "                    answer = False \n",
    "                    break\n",
    "            else: \n",
    "                answer = False \n",
    "                break \n",
    "        \n",
    "        if len(stack) != 0: \n",
    "            answer = False \n",
    "        \n",
    "        return answer"
   ]
  },
  {
   "cell_type": "code",
   "execution_count": 3,
   "metadata": {},
   "outputs": [],
   "source": [
    "class Solution:\n",
    "    def isValid(self, s: str) -> bool:\n",
    "        stack = []        \n",
    "        for c in s:\n",
    "            if c in ['(', '[', '{']:\n",
    "                stack.append(c)\n",
    "            elif c == ')' and (not stack or stack.pop() != '('):\n",
    "                return False\n",
    "            elif c == ']' and (not stack or stack.pop() != '['):\n",
    "                return False\n",
    "            elif c == '}' and (not stack or stack.pop() != '{'):\n",
    "                return False\n",
    "            \n",
    "        return not stack"
   ]
  },
  {
   "cell_type": "code",
   "execution_count": null,
   "metadata": {},
   "outputs": [],
   "source": [
    "class Solution:\n",
    "    def isValid(self, s: str) -> bool:\n",
    "        d={\"}\":\"{\",\"]\":\"[\",\")\":\"(\"}\n",
    "        st=[]\n",
    "        for i in s:\n",
    "            if i in d:\n",
    "                if not st or d[i]!=st.pop():\n",
    "                    return False\n",
    "            else:\n",
    "                st.append(i)\n",
    "        return not st\n",
    "            "
   ]
  }
 ],
 "metadata": {
  "kernelspec": {
   "display_name": "aiffel",
   "language": "python",
   "name": "aiffel"
  },
  "language_info": {
   "codemirror_mode": {
    "name": "ipython",
    "version": 3
   },
   "file_extension": ".py",
   "mimetype": "text/x-python",
   "name": "python",
   "nbconvert_exporter": "python",
   "pygments_lexer": "ipython3",
   "version": "3.7.6"
  }
 },
 "nbformat": 4,
 "nbformat_minor": 4
}
