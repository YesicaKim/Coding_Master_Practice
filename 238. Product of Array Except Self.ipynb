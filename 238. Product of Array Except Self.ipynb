{
 "cells": [
  {
   "cell_type": "markdown",
   "metadata": {},
   "source": [
    "### 238. Product of Array Except Self\n",
    "\n",
    "Given an array nums of n integers where n > 1,  return an array output such that output[i] is equal to the product of all the elements of nums except nums[i].\n",
    "\n",
    "#### Example:\n",
    "\n",
    "- Input:  [1,2,3,4]\n",
    "- Output: [24,12,8,6]\n",
    "- - Constraint: It's guaranteed that the product of the elements of any prefix or suffix of the array (including the whole array) fits in a 32 bit integer.\n",
    "\n",
    "#### Note: Please solve it without division and in O(n).\n",
    "\n",
    "- Follow up:\n",
    "- Could you solve it with constant space complexity? (The output array does not count as extra space for the purpose of space complexity analysis.)"
   ]
  },
  {
   "cell_type": "code",
   "execution_count": null,
   "metadata": {},
   "outputs": [],
   "source": [
    "class Solution:\n",
    "    def productExceptSelf(self, nums: List[int]) -> List[int]:\n",
    "        # 나눗셈 연산 없이, O(n)의 시간복잡도로 풀어야 한다\n",
    "        # = \"자기 자신을 제외한 왼쪽의 곱셈 결과 * 오른쪽 곱셈 결과\" 형태로 값을 구해야 한다.\n",
    "        # [1,2,3,4] 예시\n",
    "        \n",
    "        # 1. 왼쪽 곱셈 결과값 구하기.\n",
    "        # 왼쪽 첫 번째 숫자는 곱한 값이 없어야 하므로 시작값을 1로 초기화한다.\n",
    "        n = 1\n",
    "        left, right = [], []\n",
    "        for i in range(len(nums)):\n",
    "            left.append(n)\n",
    "            n *= nums[i]\n",
    "        # [곱하지 않은 값, 1번째, 1*2번째, 1*2*3번째] 값이 left에 저장된다.\n",
    "        \n",
    "        n = 1\n",
    "        for i in range(len(nums)-1, -1, -1):\n",
    "            right.append(n)\n",
    "            n *= nums[i]\n",
    "        right.reverse()\n",
    "        # [2*3*4번째, 3*4번째, 4번째, 곱하지 않은 값] 값이 right에 저장된다.\n",
    "        \n",
    "        # left idx값에 right의 idx값을 곱하면 원하는 결과를 얻을 수 있다.\n",
    "        for idx in range(len(nums)):\n",
    "            left[idx] = left[idx] * right[idx]\n",
    "        \n",
    "        return left"
   ]
  },
  {
   "cell_type": "code",
   "execution_count": null,
   "metadata": {},
   "outputs": [],
   "source": [
    "class Solution:\n",
    "    def productExceptSelf(self, values: List[int]) -> List[int]:\n",
    "        products_left = list(accumulate(values, mul, initial = 1))[:-1]\n",
    "        products_right = list(accumulate(values[:0:-1], mul, initial=1))[::-1]\n",
    "        return list(map(mul, products_left, products_right))"
   ]
  },
  {
   "cell_type": "code",
   "execution_count": null,
   "metadata": {},
   "outputs": [],
   "source": [
    "class Solution:\n",
    "    def productExceptSelf(self, nums: List[int]) -> List[int]:\n",
    "        total_sum = 1\n",
    "        res = []\n",
    "        for i in range(len(nums)):\n",
    "            total_sum *= nums[i]\n",
    "        for i in range(len(nums)):\n",
    "            if nums[i] == 0:\n",
    "                curr = 1\n",
    "                for j in range(len(nums)):\n",
    "                    if j != i:\n",
    "                        curr *= nums[j]\n",
    "                res.append(curr)\n",
    "            else:\n",
    "                res.append(total_sum // nums[i])\n",
    "        return res"
   ]
  },
  {
   "cell_type": "code",
   "execution_count": null,
   "metadata": {},
   "outputs": [],
   "source": []
  }
 ],
 "metadata": {
  "kernelspec": {
   "display_name": "aiffel",
   "language": "python",
   "name": "aiffel"
  },
  "language_info": {
   "codemirror_mode": {
    "name": "ipython",
    "version": 3
   },
   "file_extension": ".py",
   "mimetype": "text/x-python",
   "name": "python",
   "nbconvert_exporter": "python",
   "pygments_lexer": "ipython3",
   "version": "3.7.6"
  }
 },
 "nbformat": 4,
 "nbformat_minor": 4
}
