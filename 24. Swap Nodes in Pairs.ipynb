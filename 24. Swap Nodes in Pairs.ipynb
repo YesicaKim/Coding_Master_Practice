{
 "cells": [
  {
   "cell_type": "markdown",
   "metadata": {},
   "source": [
    "### 24. Swap Nodes in Pairs\n",
    "\n",
    "Given a linked list, swap every two adjacent nodes and return its head.\n",
    "\n",
    "![title](swap_ex1.jpg)\n",
    "\n",
    "#### Example 1:\n",
    "```\n",
    "Input: head = [1,2,3,4]\n",
    "Output: [2,1,4,3]\n",
    "```\n",
    "#### Example 2:\n",
    "```\n",
    "Input: head = []\n",
    "Output: []\n",
    "```\n",
    "#### Example 3:\n",
    "```\n",
    "Input: head = [1]\n",
    "Output: [1]\n",
    "```\n",
    "#### Constraints:\n",
    "```\n",
    "The number of nodes in the list is in the range [0, 100].\n",
    "0 <= Node.val <= 100\n",
    "``` \n",
    "\n",
    "#### Follow up: \n",
    "```\n",
    "Can you solve the problem without modifying the values in the list's nodes? (i.e., Only nodes themselves may be changed.)\n",
    "```"
   ]
  },
  {
   "cell_type": "code",
   "execution_count": 1,
   "metadata": {},
   "outputs": [],
   "source": [
    "# Definition for singly-linked list.\n",
    "# class ListNode:\n",
    "#     def __init__(self, val=0, next=None):\n",
    "#         self.val = val\n",
    "#         self.next = next\n",
    "class Solution:\n",
    "    def swapPairs(self, head):\n",
    "        if not head or not head.next: return head\n",
    "        dummy = ListNode(0)\n",
    "        dummy.next = head\n",
    "        head = dummy\n",
    "        while head.next and head.next.next:\n",
    "            n1, n2 = head.next, head.next.next\n",
    "            n1.next = n2.next\n",
    "            n2.next = n1\n",
    "            head.next = n2      \n",
    "            head = n1\n",
    "        return dummy.next"
   ]
  },
  {
   "cell_type": "code",
   "execution_count": 3,
   "metadata": {},
   "outputs": [],
   "source": [
    "# Definition for singly-linked list.\n",
    "# class ListNode:\n",
    "#     def __init__(self, val=0, next=None):\n",
    "#         self.val = val\n",
    "#         self.next = next\n",
    "class Solution:\n",
    "    def swapPairs(self, head: ListNode) -> ListNode:\n",
    "        self.swapPairsHelper(head)\n",
    "        return head\n",
    "    \n",
    "    def swapPairsHelper(self, curHead) -> None:\n",
    "        if not curHead or not curHead.next:\n",
    "            return\n",
    "        curHead.val, curHead.next.val = curHead.next.val, curHead.val\n",
    "        self.swapPairsHelper(curHead.next.next)"
   ]
  },
  {
   "cell_type": "code",
   "execution_count": null,
   "metadata": {},
   "outputs": [],
   "source": [
    "# Definition for singly-linked list.\n",
    "# class ListNode:\n",
    "#     def __init__(self, val=0, next=None):\n",
    "#         self.val = val\n",
    "#         self.next = next\n",
    "class Solution:\n",
    "    def swapPairs(self, head: ListNode) -> ListNode:\n",
    "        node = head\n",
    "        \n",
    "        while node and node.next:\n",
    "            node.val, node.next.val = node.next.val, node.val\n",
    "            node = node.next.next\n",
    "            \n",
    "        return head"
   ]
  }
 ],
 "metadata": {
  "kernelspec": {
   "display_name": "aiffel",
   "language": "python",
   "name": "aiffel"
  },
  "language_info": {
   "codemirror_mode": {
    "name": "ipython",
    "version": 3
   },
   "file_extension": ".py",
   "mimetype": "text/x-python",
   "name": "python",
   "nbconvert_exporter": "python",
   "pygments_lexer": "ipython3",
   "version": "3.7.6"
  }
 },
 "nbformat": 4,
 "nbformat_minor": 4
}
