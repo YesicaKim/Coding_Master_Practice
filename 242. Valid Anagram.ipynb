{
 "cells": [
  {
   "cell_type": "markdown",
   "metadata": {},
   "source": [
    "### 242. Valid Anagram\n",
    "\n",
    "Given two strings s and t , write a function to determine if t is an anagram of s.\n",
    "\n",
    "### Example 1:\n",
    "```\n",
    "Input: s = \"anagram\", t = \"nagaram\"\n",
    "Output: true\n",
    "```\n",
    "### Example 2:\n",
    "```\n",
    "Input: s = \"rat\", t = \"car\"\n",
    "Output: false\n",
    "```\n",
    "### Note:\n",
    "```\n",
    "You may assume the string contains only lowercase alphabets.\n",
    "```\n",
    "### Follow up:\n",
    "```\n",
    "What if the inputs contain unicode characters? How would you adapt your solution to such case?\n",
    "```\n"
   ]
  },
  {
   "cell_type": "code",
   "execution_count": null,
   "metadata": {},
   "outputs": [],
   "source": [
    "class Solution:\n",
    "    def isAnagram(self, s: str, t: str) -> bool:\n",
    "        temp_dict_s = dict()\n",
    "        temp_dict_t = dict()\n",
    "        \n",
    "        for char in s:\n",
    "            temp_dict_s[char] = temp_dict_s.get(char,0)+1\n",
    "            \n",
    "        for char in t:\n",
    "            temp_dict_t[char] = temp_dict_t.get(char,0)+1\n",
    "            \n",
    "        if temp_dict_s == temp_dict_t:\n",
    "            return True\n",
    "            \n",
    "        return False"
   ]
  },
  {
   "cell_type": "code",
   "execution_count": null,
   "metadata": {},
   "outputs": [],
   "source": [
    "from collections import Counter\n",
    "class Solution:\n",
    "    def isAnagram(self, s: str, t: str) -> bool:\n",
    "        if(Counter(s)==Counter(t)):\n",
    "            return True\n",
    "        \n",
    "        return False"
   ]
  },
  {
   "cell_type": "code",
   "execution_count": null,
   "metadata": {},
   "outputs": [],
   "source": [
    "class Solution:\n",
    "    def isAnagram(self, s: str, t: str) -> bool:\n",
    "        c1 = collections.Counter(s)\n",
    "        c2 =  collections.Counter(t)\n",
    "        if len(c1) != len(c2):\n",
    "            return False\n",
    "        else:\n",
    "            for key, value in c1.items():\n",
    "                if key in c2 and c2[key] == value:\n",
    "                    continue\n",
    "                else:\n",
    "                    return False\n",
    "        return True"
   ]
  },
  {
   "cell_type": "code",
   "execution_count": null,
   "metadata": {},
   "outputs": [],
   "source": []
  }
 ],
 "metadata": {
  "kernelspec": {
   "display_name": "aiffel",
   "language": "python",
   "name": "aiffel"
  },
  "language_info": {
   "codemirror_mode": {
    "name": "ipython",
    "version": 3
   },
   "file_extension": ".py",
   "mimetype": "text/x-python",
   "name": "python",
   "nbconvert_exporter": "python",
   "pygments_lexer": "ipython3",
   "version": "3.7.6"
  }
 },
 "nbformat": 4,
 "nbformat_minor": 4
}
