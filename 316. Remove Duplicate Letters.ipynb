{
 "cells": [
  {
   "cell_type": "markdown",
   "metadata": {},
   "source": [
    "### 316. Remove Duplicate Letters\n",
    "\n",
    "Given a string s, remove duplicate letters so that every letter appears once and only once. You must make sure your result is the smallest in lexicographical order among all possible results.\n",
    "\n",
    "Note: This question is the same as 1081: https://leetcode.com/problems/smallest-subsequence-of-distinct-characters/\n",
    "\n",
    " \n",
    "#### Example 1:\n",
    "```\n",
    "Input: s = \"bcabc\"\n",
    "Output: \"abc\"\n",
    "```\n",
    "#### Example 2:\n",
    "```\n",
    "Input: s = \"cbacdcbc\"\n",
    "Output: \"acdb\"\n",
    "``` \n",
    "#### Constraints:\n",
    "```\n",
    "1 <= s.length <=  $10^4$\n",
    "s consists of lowercase English letters.\n",
    "```"
   ]
  },
  {
   "cell_type": "code",
   "execution_count": 1,
   "metadata": {},
   "outputs": [],
   "source": [
    "\"\"\"\n",
    "Runtime: 24 ms, faster than 98.89% of Python3 online submissions for Remove Duplicate Letters.\n",
    "Memory Usage: 14.2 MB, less than 33.32% of Python3 online submissions for Remove Duplicate Letters.\n",
    "\"\"\"\n",
    "import collections\n",
    "\n",
    "class Solution:\n",
    "    def removeDuplicateLetters(self, s: str) -> str:\n",
    "        counter, seen, stack = collections.Counter(s), set(), []\n",
    "        \n",
    "        for char in s :\n",
    "            counter[char] -= 1\n",
    "            if char in seen :\n",
    "                continue\n",
    "            while stack and char < stack[-1] and counter[stack[-1]] > 0:\n",
    "                seen.remove(stack.pop())\n",
    "            stack.append(char)\n",
    "            seen.add(char)\n",
    "        \n",
    "        return ''.join(stack)\n",
    "        "
   ]
  },
  {
   "cell_type": "code",
   "execution_count": 3,
   "metadata": {},
   "outputs": [],
   "source": [
    "class Solution:\n",
    "    def removeDuplicateLetters(self, s: str) -> str:\n",
    "        stack = []\n",
    "        lastdic = {c:idx for idx, c in enumerate(s)}\n",
    "        seen = set()\n",
    "        for i in range(len(s)):\n",
    "            if s[i] not in seen:\n",
    "                while stack and stack[-1] > s[i] and i < lastdic[stack[-1]]:\n",
    "                    seen.remove(stack.pop())\n",
    "                seen.add(s[i])\n",
    "                stack.append(s[i])\n",
    "        return ''.join(stack)"
   ]
  },
  {
   "cell_type": "code",
   "execution_count": null,
   "metadata": {},
   "outputs": [],
   "source": [
    "class Solution:\n",
    "    def removeDuplicateLetters(self, s: str) -> str:\n",
    "        dic = {}\n",
    "        stack = []\n",
    "        check = set()\n",
    "        for c in s:\n",
    "            try: dic[c] += 1\n",
    "            except: dic[c] = 1\n",
    "        for c in s:\n",
    "            dic[c] -= 1\n",
    "            if c in check:\n",
    "                continue\n",
    "            while True:\n",
    "                if stack:\n",
    "                    if stack[-1] > c and dic[stack[-1]]:\n",
    "                        check.remove(stack.pop())\n",
    "                    else:\n",
    "                        break\n",
    "                else:\n",
    "                    break\n",
    "            stack.append(c)\n",
    "            check.add(c)\n",
    "        return ''.join(stack)"
   ]
  }
 ],
 "metadata": {
  "kernelspec": {
   "display_name": "aiffel",
   "language": "python",
   "name": "aiffel"
  },
  "language_info": {
   "codemirror_mode": {
    "name": "ipython",
    "version": 3
   },
   "file_extension": ".py",
   "mimetype": "text/x-python",
   "name": "python",
   "nbconvert_exporter": "python",
   "pygments_lexer": "ipython3",
   "version": "3.7.6"
  }
 },
 "nbformat": 4,
 "nbformat_minor": 4
}
