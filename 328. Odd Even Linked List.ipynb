{
 "cells": [
  {
   "cell_type": "markdown",
   "metadata": {},
   "source": [
    "### 328. Odd Even Linked List\n",
    "\n",
    "Given a singly linked list, group all odd nodes together followed by the even nodes. Please note here we are talking about the node number and not the value in the nodes.\n",
    "\n",
    "You should try to do it in place. The program should run in O(1) space complexity and O(nodes) time complexity.\n",
    "\n",
    "#### Example 1:\n",
    "```\n",
    "Input: 1->2->3->4->5->NULL\n",
    "Output: 1->3->5->2->4->NULL\n",
    "```\n",
    "#### Example 2:\n",
    "```\n",
    "Input: 2->1->3->5->6->4->7->NULL\n",
    "Output: 2->3->6->7->1->5->4->NULL\n",
    "```\n",
    "#### Constraints:\n",
    "\n",
    "- The relative order inside both the even and odd groups should remain as it was in the input.\n",
    "- The first node is considered odd, the second node even and so on ...\n",
    "- The length of the linked list is between [0, $10^4$]."
   ]
  },
  {
   "cell_type": "code",
   "execution_count": 1,
   "metadata": {},
   "outputs": [],
   "source": [
    "# Definition for singly-linked list.\n",
    "# class ListNode:\n",
    "#     def __init__(self, val=0, next=None):\n",
    "#         self.val = val\n",
    "#         self.next = next\n",
    "class Solution:\n",
    "    def oddEvenList(self, head: ListNode) -> ListNode:\n",
    "        if not head:\n",
    "            return None\n",
    "        \n",
    "        odd_head, even_head = head, head.next\n",
    "        odd_node, even_node = odd_head, even_head\n",
    "        \n",
    "        while even_node and even_node.next:\n",
    "            odd_node.next = odd_node.next.next\n",
    "            odd_node = odd_node.next\n",
    "            even_node.next = even_node.next.next\n",
    "            even_node = even_node.next\n",
    "            \n",
    "        odd_node.next = even_head\n",
    "        \n",
    "        return odd_head"
   ]
  },
  {
   "cell_type": "code",
   "execution_count": 3,
   "metadata": {},
   "outputs": [],
   "source": [
    "# Definition for singly-linked list.\n",
    "# class ListNode:\n",
    "#     def __init__(self, val=0, next=None):\n",
    "#         self.val = val\n",
    "#         self.next = next\n",
    "class Solution:\n",
    "    def oddEvenList(self, head: ListNode) -> ListNode:\n",
    "        if not head or not head.next or not head.next.next:\n",
    "            return head\n",
    "        oddTail, evenHead, evenTail = head, head.next, head.next\n",
    "        curr = evenHead.next\n",
    "        isOdd = True\n",
    "        while curr:\n",
    "            if isOdd:\n",
    "                temp = curr.next\n",
    "                oddTail.next = curr\n",
    "                curr.next= evenHead\n",
    "                evenTail.next = temp\n",
    "                curr = temp\n",
    "                oddTail = oddTail.next\n",
    "                evenTail = evenTail.next\n",
    "            else:\n",
    "                curr = curr.next\n",
    "            isOdd = not isOdd\n",
    "        return head"
   ]
  },
  {
   "cell_type": "code",
   "execution_count": null,
   "metadata": {},
   "outputs": [],
   "source": [
    "# Definition for singly-linked list.\n",
    "# class ListNode:\n",
    "#     def __init__(self, val=0, next=None):\n",
    "#         self.val = val\n",
    "#         self.next = next\n",
    "class Solution:\n",
    "    def oddEvenList(self, head: ListNode) -> ListNode:\n",
    "        if head is None: return \n",
    "        if head.next is None: return head\n",
    "        headodd , headeven = head, head.next\n",
    "        odd, even = headodd, headeven\n",
    "        while even is not None and even.next is not None:\n",
    "            odd.next =  even.next\n",
    "            odd = odd.next\n",
    "            even.next = odd.next\n",
    "            even =even.next\n",
    "        odd.next = headeven\n",
    "        return  headodd"
   ]
  }
 ],
 "metadata": {
  "kernelspec": {
   "display_name": "aiffel",
   "language": "python",
   "name": "aiffel"
  },
  "language_info": {
   "codemirror_mode": {
    "name": "ipython",
    "version": 3
   },
   "file_extension": ".py",
   "mimetype": "text/x-python",
   "name": "python",
   "nbconvert_exporter": "python",
   "pygments_lexer": "ipython3",
   "version": "3.7.6"
  }
 },
 "nbformat": 4,
 "nbformat_minor": 4
}
