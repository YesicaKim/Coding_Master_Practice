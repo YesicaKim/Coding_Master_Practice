{
 "cells": [
  {
   "cell_type": "markdown",
   "metadata": {},
   "source": [
    "### 387. First Unique Character in a String\n",
    "\n",
    "Given a string, find the first non-repeating character in it and return its index. If it doesn't exist, return -1.\n",
    "\n",
    "#### Examples:\n",
    "\n",
    "- s = \"leetcode\"\n",
    "- return 0.\n",
    "\n",
    "- s = \"loveleetcode\"\n",
    "- return 2."
   ]
  },
  {
   "cell_type": "code",
   "execution_count": 1,
   "metadata": {},
   "outputs": [],
   "source": [
    "from collections import Counter \n",
    "class Solution: \n",
    "    def firstUniqChar(self, s: str) -> int: \n",
    "        answer = -1 \n",
    "        s = list(s) \n",
    "        cnt_dict = Counter(s) \n",
    "        i = 0 \n",
    "        \n",
    "        for word in s: \n",
    "            if cnt_dict[word] == 1: \n",
    "                answer = i \n",
    "                break \n",
    "            i = i + 1 \n",
    "        \n",
    "        return answer"
   ]
  },
  {
   "cell_type": "code",
   "execution_count": 2,
   "metadata": {},
   "outputs": [],
   "source": [
    "class Solution:\n",
    "    def firstUniqChar(self, s: str) -> int:\n",
    "        pos = len(s)\n",
    "        for i in range(ord('a'), ord('z') + 1):\n",
    "            if chr(i) in s and chr(i) not in s[s.index(chr(i))+1:]:\n",
    "                pos = min(pos, s.index(chr(i)))\n",
    "        \n",
    "        \n",
    "        if pos == len(s):\n",
    "            return -1\n",
    "        return pos"
   ]
  },
  {
   "cell_type": "code",
   "execution_count": null,
   "metadata": {},
   "outputs": [],
   "source": [
    "class Solution:\n",
    "    def firstUniqChar(self, s: str) -> int:\n",
    "        b = [s.find(a) for a in \"abcdefghijklmnopqrstuvwxyz\" if s.count(a) == 1 ]\n",
    "        if len(b) == 0 :\n",
    "            return -1\n",
    "        else :\n",
    "            return min(b)"
   ]
  }
 ],
 "metadata": {
  "kernelspec": {
   "display_name": "aiffel",
   "language": "python",
   "name": "aiffel"
  },
  "language_info": {
   "codemirror_mode": {
    "name": "ipython",
    "version": 3
   },
   "file_extension": ".py",
   "mimetype": "text/x-python",
   "name": "python",
   "nbconvert_exporter": "python",
   "pygments_lexer": "ipython3",
   "version": "3.7.6"
  }
 },
 "nbformat": 4,
 "nbformat_minor": 4
}
