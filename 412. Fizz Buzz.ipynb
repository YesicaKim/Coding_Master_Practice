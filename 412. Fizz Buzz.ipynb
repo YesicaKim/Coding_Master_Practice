{
 "cells": [
  {
   "cell_type": "markdown",
   "metadata": {},
   "source": [
    "### 412. Fizz Buzz\n",
    "\n",
    "Write a program that outputs the string representation of numbers from 1 to n.\n",
    "\n",
    "But for multiples of three it should output “Fizz” instead of the number and for the multiples of five output “Buzz”. For numbers which are multiples of both three and five output “FizzBuzz”.\n",
    "\n",
    "#### Example:\n",
    "```\n",
    "n = 15,\n",
    "\n",
    "Return:\n",
    "[\n",
    "    \"1\",\n",
    "    \"2\",\n",
    "    \"Fizz\",\n",
    "    \"4\",\n",
    "    \"Buzz\",\n",
    "    \"Fizz\",\n",
    "    \"7\",\n",
    "    \"8\",\n",
    "    \"Fizz\",\n",
    "    \"Buzz\",\n",
    "    \"11\",\n",
    "    \"Fizz\",\n",
    "    \"13\",\n",
    "    \"14\",\n",
    "    \"FizzBuzz\"\n",
    "]\n",
    "```"
   ]
  },
  {
   "cell_type": "code",
   "execution_count": null,
   "metadata": {},
   "outputs": [],
   "source": [
    "class Solution:\n",
    "    def fizzBuzz(self, n: int) -> List[str]:\n",
    "        answer = []\n",
    "        \n",
    "        for i in range(1, n+1):\n",
    "            if i % 3 == 0 and i % 5 == 0:\n",
    "                answer.append(\"FizzBuzz\")\n",
    "            elif i % 5 == 0:\n",
    "                answer.append(\"Buzz\")\n",
    "            elif i % 3 == 0:\n",
    "                answer.append(\"Fizz\")\n",
    "            else:\n",
    "                answer.append(str(i))\n",
    "        return answer"
   ]
  },
  {
   "cell_type": "code",
   "execution_count": null,
   "metadata": {},
   "outputs": [],
   "source": [
    "class Solution:\n",
    "    def fizzBuzz(self, n: int) -> List[str]:\n",
    "        ret=[]\n",
    "        for i in range(1,n+1):\n",
    "            # print(i)\n",
    "            if(i%3==0 and i%5==0):\n",
    "                ret.append(\"FizzBuzz\")\n",
    "            elif(i%3==0):\n",
    "                ret.append(\"Fizz\")\n",
    "            elif(i%5==0):\n",
    "                ret.append(\"Buzz\")\n",
    "            else:\n",
    "                ret.append(str(i))\n",
    "        return(ret)"
   ]
  },
  {
   "cell_type": "code",
   "execution_count": null,
   "metadata": {},
   "outputs": [],
   "source": [
    "class Solution:\n",
    "    def fizzBuzz(self, n: int) -> List[str]:\n",
    "        str_representation = []\n",
    "        for i in range(1, n+1):\n",
    "            representation = \"\"\n",
    "            if i % 3 == 0:\n",
    "                representation+= \"Fizz\"\n",
    "            if i % 5 == 0:\n",
    "                representation+=\"Buzz\"\n",
    "            if (not i%3 == 0) and (not i%5 == 0):\n",
    "                representation+=str(i)\n",
    "                \n",
    "            str_representation.append(representation)\n",
    "            \n",
    "        return str_representation"
   ]
  }
 ],
 "metadata": {
  "kernelspec": {
   "display_name": "aiffel",
   "language": "python",
   "name": "aiffel"
  },
  "language_info": {
   "codemirror_mode": {
    "name": "ipython",
    "version": 3
   },
   "file_extension": ".py",
   "mimetype": "text/x-python",
   "name": "python",
   "nbconvert_exporter": "python",
   "pygments_lexer": "ipython3",
   "version": "3.7.6"
  }
 },
 "nbformat": 4,
 "nbformat_minor": 4
}
