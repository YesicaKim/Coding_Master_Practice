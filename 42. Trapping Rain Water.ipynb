{
 "cells": [
  {
   "cell_type": "markdown",
   "metadata": {},
   "source": [
    "### 42. Trapping Rain Water\n",
    "\n",
    "Given n non-negative integers representing an elevation map where the width of each bar is 1, compute how much water it can trap after raining.\n",
    "\n",
    "#### Example 1:\n",
    "\n",
    "![빗물가두기](leetcode42.png)\n",
    "\n",
    "- Input: height = [0,1,0,2,1,0,1,3,2,1,2,1]\n",
    "- Output: 6\n",
    "- Explanation: The above elevation map (black section) is represented by array [0,1,0,2,1,0,1,3,2,1,2,1]. In this case, 6 units of rain water (blue section) are being trapped.\n",
    "\n",
    "#### Example 2:\n",
    "\n",
    "- Input: height = [4,2,0,3,2,5]\n",
    "- Output: 9\n",
    " \n",
    "#### Constraints:\n",
    "\n",
    "- n == height.length\n",
    "- 0 <= n <= 3 * 104\n",
    "- 0 <= height[i] <= 105"
   ]
  },
  {
   "cell_type": "code",
   "execution_count": null,
   "metadata": {},
   "outputs": [],
   "source": [
    "class Solution:\n",
    "    def trap(self, height: List[int]) -> int:\n",
    "        if not height:\n",
    "            return 0\n",
    "        \n",
    "        result = 0\n",
    "        # 왼쪽 / 오른쪽의 idx 지정\n",
    "        left, right = 0, len(height)-1\n",
    "        # 왼쪽 / 오른쪽의 최고높이 결정\n",
    "        left_height, right_height = height[left], height[right]\n",
    "        \n",
    "        while left < right:\n",
    "          # 현재 위치 기준으로 왼쪽 / 오른쪽 높이 최댓값 경신\n",
    "            left_height, right_height = max(left_height, height[left]), max(right_height, height[right])\n",
    "            # left 높이가 right보다 작거나 같을 경우 left idx 이동\n",
    "            if left_height <= right_height:\n",
    "                result += left_height - height[left]\n",
    "                left += 1\n",
    "            else:\n",
    "              # right idx 이동\n",
    "                result += right_height - height[right]\n",
    "                right -= 1\n",
    "        return result"
   ]
  },
  {
   "cell_type": "code",
   "execution_count": null,
   "metadata": {},
   "outputs": [],
   "source": [
    "class Solution:\n",
    "    \n",
    "    def trap(self, height: List[int]) -> int:\n",
    "        \n",
    "        lmax, rmax = 0, 0\n",
    "        i, j = 0, len(height) - 1\n",
    "        water = 0\n",
    "        \n",
    "        while i < j:\n",
    "            if height[i] < height[j]:\n",
    "                if height[i] >= lmax:\n",
    "                    lmax = height[i]\n",
    "                else:\n",
    "                    water += lmax - height[i]\n",
    "                i += 1    \n",
    "            else:\n",
    "                if height[j] >= rmax:\n",
    "                    rmax = height[j]\n",
    "                else:\n",
    "                    water += rmax - height[j]\n",
    "                j -= 1    \n",
    "                \n",
    "        return water        \n"
   ]
  },
  {
   "cell_type": "code",
   "execution_count": null,
   "metadata": {},
   "outputs": [],
   "source": [
    "class Solution:\n",
    "    def trap(self, height: List[int]) -> int:\n",
    "        goingLeft = [0] * len(height)\n",
    "        goingRight = [0] * len(height)\n",
    "        afterWaterHeight = 0\n",
    "        beforeWaterHeight = 0\n",
    "        \n",
    "        maxHeight = 0\n",
    "        for i in range(len(height)):\n",
    "            if height[i] > maxHeight:\n",
    "                maxHeight = height[i]\n",
    "            goingRight[i] = maxHeight\n",
    "        \n",
    "        maxHeight = 0\n",
    "        for i in range(len(height)-1,-1, -1):\n",
    "            if height[i] > maxHeight:\n",
    "                maxHeight = height[i]\n",
    "            goingLeft[i] = maxHeight\n",
    "        \n",
    "        for i in range(len(height)):\n",
    "            afterWaterHeight += min(goingLeft[i], goingRight[i])\n",
    "            beforeWaterHeight += height[i]\n",
    "            \n",
    "        return afterWaterHeight - beforeWaterHeight\n",
    "                \n"
   ]
  },
  {
   "cell_type": "code",
   "execution_count": null,
   "metadata": {},
   "outputs": [],
   "source": []
  }
 ],
 "metadata": {
  "kernelspec": {
   "display_name": "aiffel",
   "language": "python",
   "name": "aiffel"
  },
  "language_info": {
   "codemirror_mode": {
    "name": "ipython",
    "version": 3
   },
   "file_extension": ".py",
   "mimetype": "text/x-python",
   "name": "python",
   "nbconvert_exporter": "python",
   "pygments_lexer": "ipython3",
   "version": "3.7.6"
  }
 },
 "nbformat": 4,
 "nbformat_minor": 4
}
