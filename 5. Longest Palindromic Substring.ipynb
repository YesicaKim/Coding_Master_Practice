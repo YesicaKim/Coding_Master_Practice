{
 "cells": [
  {
   "cell_type": "markdown",
   "metadata": {},
   "source": [
    "### 5. Longest Palindromic Substring\n",
    "\n",
    "Given a string s, return the longest palindromic substring in s.\n",
    "\n",
    " \n",
    "#### Example 1:\n",
    "\n",
    "- Input: s = \"babad\"\n",
    "- Output: \"bab\"\n",
    "- Note: \"aba\" is also a valid answer.\n",
    "\n",
    "#### Example 2:\n",
    "\n",
    "- Input: s = \"cbbd\"\n",
    "- Output: \"bb\"\n",
    "\n",
    "#### Example 3:\n",
    "\n",
    "- Input: s = \"a\"\n",
    "- Output: \"a\"\n",
    "\n",
    "#### Example 4:\n",
    "\n",
    "- Input: s = \"ac\"\n",
    "- Output: \"a\"\n",
    " \n",
    "#### Constraints:\n",
    "\n",
    "- 1 <= s.length <= 1000\n",
    "- s consist of only digits and English letters (lower-case and/or upper-case),"
   ]
  },
  {
   "cell_type": "code",
   "execution_count": 2,
   "metadata": {},
   "outputs": [],
   "source": [
    "class Solution:\n",
    "    def longestPalindrome(self, s: str) -> str:\n",
    "        if len(s) <= 1:\n",
    "            return s\n",
    "        i,l=0,0\n",
    "        for j in range(len(s)):\n",
    "            if s[j-l: j+1] == s[j-l: j+1][::-1]:\n",
    "                i, l = j-l, l+1\n",
    "                # print(s[i: i+l])\n",
    "            elif j-l > 0 and s[j-l-1: j+1] == s[j-l-1: j+1][::-1]:\n",
    "                i, l = j-l-1, l+2\n",
    "                # print(s[i: i+l])\n",
    "        return s[i: i+l]"
   ]
  },
  {
   "cell_type": "code",
   "execution_count": 3,
   "metadata": {},
   "outputs": [],
   "source": [
    "class Solution:\n",
    "    def longestPalindrome(self, s: str) -> str:\n",
    "        if len(s) <= 1 or s == s[::-1]:\n",
    "            return s\n",
    "        \n",
    "        start, maxlen = 0, 1\n",
    "        \n",
    "        for end in range(1, len(s)):\n",
    "            sub1 = s[end-maxlen-1:end+1]\n",
    "            sub2 = s[end-maxlen: end+1]\n",
    "            \n",
    "            if end-maxlen-1>=0 and sub1 == sub1[::-1]:\n",
    "                start, maxlen = end-maxlen-1, maxlen+2\n",
    "            elif end-maxlen>=0 and sub2 == sub2[::-1]:\n",
    "                start, maxlen = end-maxlen, maxlen+1\n",
    "        \n",
    "        return s[start:start+maxlen]"
   ]
  },
  {
   "cell_type": "code",
   "execution_count": null,
   "metadata": {},
   "outputs": [],
   "source": []
  }
 ],
 "metadata": {
  "kernelspec": {
   "display_name": "aiffel",
   "language": "python",
   "name": "aiffel"
  },
  "language_info": {
   "codemirror_mode": {
    "name": "ipython",
    "version": 3
   },
   "file_extension": ".py",
   "mimetype": "text/x-python",
   "name": "python",
   "nbconvert_exporter": "python",
   "pygments_lexer": "ipython3",
   "version": "3.7.6"
  }
 },
 "nbformat": 4,
 "nbformat_minor": 4
}
