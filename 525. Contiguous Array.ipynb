{
 "cells": [
  {
   "cell_type": "markdown",
   "metadata": {},
   "source": [
    "### 525. Contiguous Array\n",
    "\n",
    "Given a binary array, find the maximum length of a contiguous subarray with equal number of 0 and 1.\n",
    "\n",
    "#### Example 1:\n",
    "- Input: [0,1]\n",
    "- Output: 2\n",
    "- Explanation: [0, 1] is the longest contiguous subarray with equal number of 0 and 1.\n",
    "\n",
    "#### Example 2:\n",
    "- Input: [0,1,0]\n",
    "- Output: 2\n",
    "- Explanation: [0, 1] (or [1, 0]) is a longest contiguous subarray with equal number of 0 and 1.\n",
    "\n",
    "#### Note: The length of the given binary array will not exceed 50,000.\n"
   ]
  },
  {
   "cell_type": "code",
   "execution_count": 2,
   "metadata": {},
   "outputs": [],
   "source": [
    "class Solution:\n",
    "    def findMaxLength(self, nums: List[int]) -> int:\n",
    "        if len(nums) == 0:\n",
    "            return 0\n",
    "        \n",
    "        memo = dict()\n",
    "        count = 0\n",
    "        ret = 0\n",
    "        \n",
    "        memo[count] = 0\n",
    "        \n",
    "        for i, n in enumerate(nums):\n",
    "            if n == 0:\n",
    "                count -= 1\n",
    "            else:\n",
    "                count += 1\n",
    "            if count not in memo:\n",
    "                memo[count] = i+1\n",
    "            else:\n",
    "                ret = max(ret, (i+1)-memo[count])\n",
    "\n",
    "        return ret\n"
   ]
  },
  {
   "cell_type": "code",
   "execution_count": 3,
   "metadata": {},
   "outputs": [],
   "source": [
    "class Solution:\n",
    "    def findMaxLength(self, nums: List[int]) -> int:\n",
    "        sum_indices = defaultdict(list)\n",
    "        sum_indices[0] = [-1]\n",
    "        \n",
    "        total = 0\n",
    "        for i, num in enumerate(nums):\n",
    "            if num == 0:\n",
    "                total -= 1\n",
    "            else:\n",
    "                total += 1\n",
    "            sum_indices[total].append(i)\n",
    "        \n",
    "        result = 0\n",
    "        for indices in sum_indices.values():\n",
    "            if len(indices) < 2:\n",
    "                continue\n",
    "            result = max(result, indices[-1]-indices[0])\n",
    "        \n",
    "        return result\n",
    "                        "
   ]
  },
  {
   "cell_type": "code",
   "execution_count": null,
   "metadata": {},
   "outputs": [],
   "source": [
    "class Solution:\n",
    "    def findMaxLength(self, nums: List[int]) -> int:\n",
    "        answer = 0\n",
    "        map = dict()\n",
    "        map[0] = -1\n",
    "        \n",
    "        cnt = 0\n",
    "        for i, n in enumerate(nums):\n",
    "            if n == 1:\n",
    "                cnt += 1\n",
    "            else:\n",
    "                cnt -= 1\n",
    "            \n",
    "            # If the current count is recorded before, \n",
    "            # that means the segment nums[map[cnt] +1], ..., nums[i] has equal number of 1 and 0\n",
    "            if cnt in map:\n",
    "                size = i - map[cnt]\n",
    "                if size > answer:\n",
    "                    answer = size\n",
    "            else:\n",
    "                map[cnt] = i\n",
    "        \n",
    "        return answer"
   ]
  }
 ],
 "metadata": {
  "kernelspec": {
   "display_name": "aiffel",
   "language": "python",
   "name": "aiffel"
  },
  "language_info": {
   "codemirror_mode": {
    "name": "ipython",
    "version": 3
   },
   "file_extension": ".py",
   "mimetype": "text/x-python",
   "name": "python",
   "nbconvert_exporter": "python",
   "pygments_lexer": "ipython3",
   "version": "3.7.6"
  }
 },
 "nbformat": 4,
 "nbformat_minor": 4
}
