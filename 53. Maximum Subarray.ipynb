{
 "cells": [
  {
   "cell_type": "markdown",
   "metadata": {},
   "source": [
    "### 53. Maximum Subarray\n",
    "\n",
    "Given an integer array nums, find the contiguous subarray (containing at least one number) which has the largest sum and return its sum.\n",
    " \n",
    "#### Example 1:\n",
    "`\n",
    "Input: nums = [-2,1,-3,4,-1,2,1,-5,4]\n",
    "Output: 6\n",
    "Explanation: [4,-1,2,1] has the largest sum = 6.\n",
    "`\n",
    "#### Example 2:\n",
    "`\n",
    "Input: nums = [1]\n",
    "Output: 1\n",
    "`\n",
    "#### Example 3:\n",
    "`\n",
    "Input: nums = [0]\n",
    "Output: 0\n",
    "`\n",
    "#### Example 4:\n",
    "`\n",
    "Input: nums = [-1]\n",
    "Output: -1\n",
    "`\n",
    "#### Example 5:\n",
    "`\n",
    "Input: nums = [-100000]\n",
    "Output: -100000\n",
    "`\n",
    "#### Constraints:\n",
    "`\n",
    "1 <= nums.length <= 3 * `$10^4$\n",
    "\n",
    "`\n",
    "-105 <= nums[i] <= `$10^5$` "
   ]
  },
  {
   "cell_type": "code",
   "execution_count": null,
   "metadata": {},
   "outputs": [],
   "source": [
    "def maxSubArray(self, nums: List[int]) -> int:\n",
    "        dp = [0]*len(nums)\n",
    "        dp[0] = nums[0]\n",
    "        max_num = nums[0]\n",
    "        for i in range(1, len(nums)):\n",
    "            dp[i] = max(dp[i-1]+nums[i], nums[i])\n",
    "            if dp[i]>max_num: max_num = dp[i]\n",
    "        return max_num"
   ]
  },
  {
   "cell_type": "code",
   "execution_count": null,
   "metadata": {},
   "outputs": [],
   "source": [
    "class Solution:\n",
    "    def maxSubArray(self, nums: List[int]) -> int:\n",
    "        allmax = nums[0]\n",
    "        curmax = nums[0]\n",
    "        for i in nums[1:]:\n",
    "            if curmax + i > i:\n",
    "                curmax = curmax + i\n",
    "            else:\n",
    "                curmax = i\n",
    "            if curmax > allmax:\n",
    "                allmax = curmax\n",
    "                \n",
    "        return allmax"
   ]
  },
  {
   "cell_type": "code",
   "execution_count": null,
   "metadata": {},
   "outputs": [],
   "source": [
    "class Solution:\n",
    "    def maxSubArray(self, nums: List[int]) -> int:\n",
    "            if len(nums) == 1:\n",
    "                return nums[0]\n",
    "    \n",
    "            global_max = -1*2**32\n",
    "            local_max = 0\n",
    "\n",
    "            for elem in nums:\n",
    "              local_max = max( elem, elem+local_max )\n",
    "              if local_max > global_max:\n",
    "                global_max = local_max     \n",
    "\n",
    "            return global_max"
   ]
  },
  {
   "cell_type": "code",
   "execution_count": null,
   "metadata": {},
   "outputs": [],
   "source": [
    "class Solution:\n",
    "    def maxSubArray(self, nums: List[int]) -> int:\n",
    "        best_sum = nums[0]\n",
    "        valley = 0\n",
    "        running = 0\n",
    "        for n in nums:\n",
    "            running += n\n",
    "            valley_to_peak = running - valley\n",
    "            if valley_to_peak > best_sum:\n",
    "                best_sum = valley_to_peak\n",
    "            if running < valley:\n",
    "                valley = running\n",
    "        return best_sum"
   ]
  }
 ],
 "metadata": {
  "kernelspec": {
   "display_name": "aiffel",
   "language": "python",
   "name": "aiffel"
  },
  "language_info": {
   "codemirror_mode": {
    "name": "ipython",
    "version": 3
   },
   "file_extension": ".py",
   "mimetype": "text/x-python",
   "name": "python",
   "nbconvert_exporter": "python",
   "pygments_lexer": "ipython3",
   "version": "3.7.6"
  }
 },
 "nbformat": 4,
 "nbformat_minor": 4
}
