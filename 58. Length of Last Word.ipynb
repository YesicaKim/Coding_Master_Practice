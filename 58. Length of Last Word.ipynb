{
 "cells": [
  {
   "cell_type": "markdown",
   "metadata": {},
   "source": [
    "### 58. Length of Last Word\n",
    "\n",
    "Given a string s consists of some words separated by spaces, return the length of the last word in the string. If the last word does not exist, return 0.\n",
    "\n",
    "A word is a maximal substring consisting of non-space characters only.\n",
    "\n",
    " \n",
    "#### Example 1:\n",
    "\n",
    "- Input: s = \"Hello World\"\n",
    "- Output: 5\n",
    "\n",
    "#### Example 2:\n",
    "\n",
    "- Input: s = \" \"\n",
    "- Output: 0\n"
   ]
  },
  {
   "cell_type": "code",
   "execution_count": 2,
   "metadata": {},
   "outputs": [],
   "source": [
    "class Solution: \n",
    "    def lengthOfLastWord(self, s: str) -> int: \n",
    "        words = s.split(' ') \n",
    "        print(words) \n",
    "        word = [w for w in words if w != ''] \n",
    "        \n",
    "        if len(word) == 0: \n",
    "            answer = 0 \n",
    "        else: \n",
    "            word = word[-1] \n",
    "            answer = len(word) \n",
    "        \n",
    "        return answer\n"
   ]
  },
  {
   "cell_type": "code",
   "execution_count": 3,
   "metadata": {},
   "outputs": [],
   "source": [
    "class Solution:\n",
    "    def lengthOfLastWord(self, s: str) -> int:\n",
    "        return len(s.strip().split(' ')[-1])"
   ]
  },
  {
   "cell_type": "code",
   "execution_count": null,
   "metadata": {},
   "outputs": [],
   "source": []
  }
 ],
 "metadata": {
  "kernelspec": {
   "display_name": "aiffel",
   "language": "python",
   "name": "aiffel"
  },
  "language_info": {
   "codemirror_mode": {
    "name": "ipython",
    "version": 3
   },
   "file_extension": ".py",
   "mimetype": "text/x-python",
   "name": "python",
   "nbconvert_exporter": "python",
   "pygments_lexer": "ipython3",
   "version": "3.7.6"
  }
 },
 "nbformat": 4,
 "nbformat_minor": 4
}
