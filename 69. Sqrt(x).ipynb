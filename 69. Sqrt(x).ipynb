{
 "cells": [
  {
   "cell_type": "markdown",
   "metadata": {},
   "source": [
    "### 69. Sqrt(x)\n",
    "\n",
    "Given a binary tree, check whether it is a mirror of itself (ie, symmetric around its center).\n",
    "\n",
    "For example, this binary tree [1,2,2,3,4,4,3] is symmetric:\n",
    "\n",
    "    1\n",
    "   / \\\n",
    "  2   2\n",
    " / \\ / \\\n",
    "3  4 4  3\n",
    " \n",
    "\n",
    "But the following [1,2,2,null,3,null,3] is not:\n",
    "\n",
    "    1\n",
    "   / \\\n",
    "  2   2\n",
    "   \\   \\\n",
    "   3    3\n",
    " \n",
    "\n",
    "Follow up: Solve it both recursively and iteratively."
   ]
  },
  {
   "cell_type": "code",
   "execution_count": null,
   "metadata": {},
   "outputs": [],
   "source": [
    "import math\n",
    "\n",
    "class Solution:\n",
    "    def mySqrt(self, x: int) -> int:\n",
    "        answer = int(math.sqrt(x))\n",
    "        return answer"
   ]
  },
  {
   "cell_type": "code",
   "execution_count": null,
   "metadata": {},
   "outputs": [],
   "source": [
    "class Solution:\n",
    "    def mySqrt(self, x: int) -> int:\n",
    "        left = 0\n",
    "        right = x + 1\n",
    "        while left < right:\n",
    "            mid = (left + right) // 2\n",
    "            if mid * mid > x:\n",
    "                right = mid\n",
    "            else:\n",
    "                left = mid + 1\n",
    "        return left - 1\n",
    "    \n",
    "    \n",
    "# 0 \n",
    "# 1\n",
    "# 2\n",
    "# 4\n",
    "# 8\n",
    "# 10"
   ]
  },
  {
   "cell_type": "code",
   "execution_count": null,
   "metadata": {},
   "outputs": [],
   "source": [
    "class Solution:\n",
    "    def mySqrt(self, x: int) -> int:\n",
    "        return trunc(sqrt(x))"
   ]
  },
  {
   "cell_type": "code",
   "execution_count": null,
   "metadata": {},
   "outputs": [],
   "source": [
    "import math\n",
    "class Solution:\n",
    "    \n",
    "    def mySqrt(self, x: int) -> int:\n",
    "        \n",
    "        \n",
    "        temp = str(math.sqrt(x))\n",
    "        \n",
    "        \n",
    "        \n",
    "        \n",
    "        emp = []\n",
    "        \n",
    "        for i in range(0, len(temp)):\n",
    "            print(temp[i])\n",
    "            if temp[i] != '.':\n",
    "                emp.append(temp[i])\n",
    "            else:\n",
    "                break\n",
    "        \n",
    "        \n",
    "        fin = \"\".join(emp)\n",
    "\n",
    "        \n",
    "        return int(fin)"
   ]
  }
 ],
 "metadata": {
  "kernelspec": {
   "display_name": "aiffel",
   "language": "python",
   "name": "aiffel"
  },
  "language_info": {
   "codemirror_mode": {
    "name": "ipython",
    "version": 3
   },
   "file_extension": ".py",
   "mimetype": "text/x-python",
   "name": "python",
   "nbconvert_exporter": "python",
   "pygments_lexer": "ipython3",
   "version": "3.7.6"
  }
 },
 "nbformat": 4,
 "nbformat_minor": 4
}
