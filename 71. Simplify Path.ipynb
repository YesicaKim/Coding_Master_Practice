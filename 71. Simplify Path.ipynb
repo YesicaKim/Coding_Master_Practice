{
 "cells": [
  {
   "cell_type": "markdown",
   "metadata": {},
   "source": [
    "### 71. Simplify Path\n",
    "\n",
    "Given an absolute path for a file (Unix-style), simplify it. Or in other words, convert it to the canonical path.\n",
    "\n",
    "In a UNIX-style file system, a period '.' refers to the current directory. Furthermore, a double period '..' moves the directory up a level.\n",
    "\n",
    "Note that the returned canonical path must always begin with a slash '/', and there must be only a single slash '/' between two directory names. The last directory name (if it exists) must not end with a trailing '/'. Also, the canonical path must be the shortest string representing the absolute path.\n",
    "\n",
    " \n",
    "\n",
    "#### Example 1:\n",
    "\n",
    "- Input: path = \"/home/\"\n",
    "- Output: \"/home\"\n",
    "- Explanation: Note that there is no trailing slash after the last directory name.\n",
    "\n",
    "#### Example 2:\n",
    "\n",
    "- Input: path = \"/../\"\n",
    "- Output: \"/\"\n",
    "- Explanation: Going one level up from the root directory is a no-op, as the root level is the highest level you can go.\n",
    "\n",
    "#### Example 3:\n",
    "\n",
    "- Input: path = \"/home//foo/\"\n",
    "- Output: \"/home/foo\"\n",
    "- Explanation: In the canonical path, multiple consecutive slashes are replaced by a single one.\n",
    "\n",
    "#### Example 4:\n",
    "\n",
    "- Input: path = \"/a/./b/../../c/\"\n",
    "- Output: \"/c\"\n",
    " \n",
    "\n",
    "#### Constraints:\n",
    "\n",
    "- 1 <= path.length <= 3000\n",
    "- path consists of English letters, digits, period '.', slash '/' or '_'.\n",
    "- path is a valid Unix path.\n"
   ]
  },
  {
   "cell_type": "code",
   "execution_count": 2,
   "metadata": {},
   "outputs": [],
   "source": [
    "class Solution:\n",
    "    def simplifyPath(self, path):\n",
    "        \"\"\"\n",
    "        :type path: str\n",
    "        :rtype: str\n",
    "        \"\"\"\n",
    "        stack = list()\n",
    "        path = [p for p in path.split('/') if p]\n",
    "        for f in path:\n",
    "            if f == '.': \n",
    "                continue\n",
    "            elif f == '..': \n",
    "                if stack: \n",
    "                    stack.pop()\n",
    "            else: \n",
    "                stack.append(f)\n",
    "\n",
    "        return '/'+'/'.join(stack)"
   ]
  },
  {
   "cell_type": "code",
   "execution_count": 3,
   "metadata": {},
   "outputs": [],
   "source": [
    "from collections import deque\n",
    "class Solution:\n",
    "    def simplifyPath(self, path: str) -> str:\n",
    "        s = deque()\n",
    "        for node in path.split('/'):\n",
    "            if node == '..':\n",
    "                if s:\n",
    "                    s.pop()\n",
    "            elif node and node != '.':\n",
    "                s.append(node)\n",
    "        return \"/\" + \"/\".join(s)"
   ]
  },
  {
   "cell_type": "code",
   "execution_count": null,
   "metadata": {},
   "outputs": [],
   "source": []
  }
 ],
 "metadata": {
  "kernelspec": {
   "display_name": "aiffel",
   "language": "python",
   "name": "aiffel"
  },
  "language_info": {
   "codemirror_mode": {
    "name": "ipython",
    "version": 3
   },
   "file_extension": ".py",
   "mimetype": "text/x-python",
   "name": "python",
   "nbconvert_exporter": "python",
   "pygments_lexer": "ipython3",
   "version": "3.7.6"
  }
 },
 "nbformat": 4,
 "nbformat_minor": 4
}
