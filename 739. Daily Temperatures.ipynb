{
 "cells": [
  {
   "cell_type": "markdown",
   "metadata": {},
   "source": [
    "### 739. Daily Temperatures\n",
    "Given a list of daily temperatures T, return a list such that, for each day in the input, tells you how many days you would have to wait until a warmer temperature. If there is no future day for which this is possible, put 0 instead.\n",
    "\n",
    "For example, given the list of temperatures T = [73, 74, 75, 71, 69, 72, 76, 73], your output should be [1, 1, 4, 2, 1, 1, 0, 0].\n",
    "\n",
    "Note: The length of temperatures will be in the range [1, 30000]. Each temperature will be an integer in the range [30, 100]."
   ]
  },
  {
   "cell_type": "code",
   "execution_count": 1,
   "metadata": {},
   "outputs": [],
   "source": [
    "class Solution:\n",
    "    def dailyTemperatures(self, T: List[int]) -> List[int]:\n",
    "        # 현재 온도를 stack에 저장.\n",
    "        # 다음날 온도가 현재보다 높으면 stack 값을 꺼내서, 날씨차이 저장.\n",
    "        # 낮으면 스택 값은 계속 유지됨.\n",
    "        stack = []\n",
    "        answer = [0 for _ in range(len(T))]\n",
    "        for idx, value in enumerate(T):\n",
    "            while stack and value > T[stack[-1]]:\n",
    "                last = stack.pop()\n",
    "                answer[last] = idx - last\n",
    "            stack.append(idx)\n",
    "        return answer"
   ]
  },
  {
   "cell_type": "code",
   "execution_count": 3,
   "metadata": {},
   "outputs": [],
   "source": [
    "class Solution:\n",
    "    def dailyTemperatures(self, T: List[int]) -> List[int]:\n",
    "        n, right_max = len(T), float('-inf')\n",
    "        res = [0] * n\n",
    "        for i in range(n-1, -1, -1):\n",
    "            t = T[i]\n",
    "            if right_max <= t:\n",
    "                right_max = t\n",
    "            else:\n",
    "                days = 1\n",
    "                while T[i+days] <= t:\n",
    "                    days += res[i+days]\n",
    "                res[i] = days\n",
    "        return res"
   ]
  },
  {
   "cell_type": "code",
   "execution_count": null,
   "metadata": {},
   "outputs": [],
   "source": [
    "class Solution:\n",
    "    def dailyTemperatures(self, T: List[int]) -> List[int]:\n",
    "        \n",
    "        res = [0]*len(T)\n",
    "        \n",
    "        stack = []\n",
    "        \n",
    "        for i in range(len(T)):\n",
    "            \n",
    "            while stack and T[i] > T[stack[-1]]:\n",
    "                idx = stack.pop()\n",
    "                res[idx] = i - idx\n",
    "            stack.append(i)\n",
    "            \n",
    "        return res"
   ]
  },
  {
   "cell_type": "code",
   "execution_count": null,
   "metadata": {},
   "outputs": [],
   "source": []
  }
 ],
 "metadata": {
  "kernelspec": {
   "display_name": "aiffel",
   "language": "python",
   "name": "aiffel"
  },
  "language_info": {
   "codemirror_mode": {
    "name": "ipython",
    "version": 3
   },
   "file_extension": ".py",
   "mimetype": "text/x-python",
   "name": "python",
   "nbconvert_exporter": "python",
   "pygments_lexer": "ipython3",
   "version": "3.7.6"
  }
 },
 "nbformat": 4,
 "nbformat_minor": 4
}
