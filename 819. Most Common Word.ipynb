{
 "cells": [
  {
   "cell_type": "markdown",
   "metadata": {},
   "source": [
    "### 819. Most Common Word\n",
    "\n",
    "Given a paragraph and a list of banned words, return the most frequent word that is not in the list of banned words.  It is guaranteed there is at least one word that isn't banned, and that the answer is unique.\n",
    "\n",
    "Words in the list of banned words are given in lowercase, and free of punctuation.  Words in the paragraph are not case sensitive.  The answer is in lowercase.\n",
    "\n",
    " \n",
    "\n",
    "#### Example:\n",
    "\n",
    "~~~\n",
    "\n",
    "Input: \n",
    "paragraph = \"Bob hit a ball, the hit BALL flew far after it was hit.\"\n",
    "banned = [\"hit\"]\n",
    "Output: \"ball\"\n",
    "Explanation: \n",
    "\"hit\" occurs 3 times, but it is a banned word.\n",
    "\"ball\" occurs twice (and no other word does), so it is the most frequent non-banned word in the paragraph. \n",
    "Note that words in the paragraph are not case sensitive,\n",
    "that punctuation is ignored (even if adjacent to words, such as \"ball,\"), \n",
    "and that \"hit\" isn't the answer even though it occurs more because it is banned.\n",
    "~~~ \n",
    "\n",
    "#### Note:\n",
    "\n",
    "- 1 <= paragraph.length <= 1000.\n",
    "- 0 <= banned.length <= 100.\n",
    "- 1 <= banned[i].length <= 10.\n",
    "- The answer is unique, and written in lowercase (even if its occurrences in paragraph may have uppercase symbols, and even if it is a proper noun.)\n",
    "- paragraph only consists of letters, spaces, or the punctuation symbols !?',;.\n",
    "- There are no hyphens or hyphenated words.\n",
    "- Words only consist of letters, never apostrophes or other punctuation symbols.\n"
   ]
  },
  {
   "cell_type": "code",
   "execution_count": 2,
   "metadata": {},
   "outputs": [],
   "source": [
    "from collections import Counter \n",
    "import re \n",
    "\n",
    "class Solution: \n",
    "    def mostCommonWord(self, paragraph: str, banned: List[str]) -> str: \n",
    "        paragraph = paragraph.lower() \n",
    "        paragraph = re.sub('[^a-z]',' ',paragraph) \n",
    "        \n",
    "        paragraph_list = paragraph.split(' ') \n",
    "        \n",
    "        paragraph_list = [para for para in paragraph_list if para not in banned and para != ''] \n",
    "        \n",
    "        cnt_dict = Counter(paragraph_list) \n",
    "        \n",
    "        val_list = list(cnt_dict.items()) \n",
    "        print(val_list) \n",
    "        \n",
    "        sorted_list = sorted(val_list, key=lambda x: -x[1]) \n",
    "        print(sorted_list) \n",
    "        \n",
    "        answer = sorted_list[0][0] \n",
    "        \n",
    "        return answer\n"
   ]
  },
  {
   "cell_type": "code",
   "execution_count": 3,
   "metadata": {},
   "outputs": [],
   "source": [
    "class Solution:\n",
    "    def mostCommonWord(self, paragraph: str, banned: List[str]) -> str:\n",
    "        # hash set of banned list\n",
    "        set_banned = set(banned)\n",
    "        \n",
    "        # paragraph lowercase and without punctuation symbols\n",
    "        # replace it with white space\n",
    "        para_lower = paragraph.lower()\n",
    "        for c in \"!?',;.\":\n",
    "            para_lower = para_lower.replace(c, ' ')\n",
    "        \n",
    "        # get the word list now by split method\n",
    "        # from the word list, which occurs how much time\n",
    "        # a dictionary, easy way is using a counter \n",
    "        word_list = para_lower.split()\n",
    "        counter = Counter(word_list) #.most_common()\n",
    "        sorted_items = sorted(counter.items(), key=lambda x: x[1], reverse=True)\n",
    "        for word,_ in sorted_items:\n",
    "            if word not in set_banned:\n",
    "                result = word\n",
    "                break\n",
    "        return result"
   ]
  },
  {
   "cell_type": "code",
   "execution_count": null,
   "metadata": {},
   "outputs": [],
   "source": []
  }
 ],
 "metadata": {
  "kernelspec": {
   "display_name": "aiffel",
   "language": "python",
   "name": "aiffel"
  },
  "language_info": {
   "codemirror_mode": {
    "name": "ipython",
    "version": 3
   },
   "file_extension": ".py",
   "mimetype": "text/x-python",
   "name": "python",
   "nbconvert_exporter": "python",
   "pygments_lexer": "ipython3",
   "version": "3.7.6"
  }
 },
 "nbformat": 4,
 "nbformat_minor": 4
}
