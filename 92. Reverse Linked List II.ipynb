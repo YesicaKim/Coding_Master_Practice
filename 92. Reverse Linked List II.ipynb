{
 "cells": [
  {
   "cell_type": "markdown",
   "metadata": {},
   "source": [
    "### 92. Reverse Linked List II\n",
    "\n",
    "Reverse a linked list from position m to n. Do it in one-pass.\n",
    "\n",
    "Note: 1 ≤ m ≤ n ≤ length of list.\n",
    "\n",
    "#### Example:\n",
    "```\n",
    "Input: 1->2->3->4->5->NULL, m = 2, n = 4\n",
    "Output: 1->4->3->2->5->NULL\n",
    "```"
   ]
  },
  {
   "cell_type": "code",
   "execution_count": 1,
   "metadata": {},
   "outputs": [],
   "source": [
    "# Definition for singly-linked list.\n",
    "# class ListNode:\n",
    "#     def __init__(self, val=0, next=None):\n",
    "#         self.val = val\n",
    "#         self.next = next\n",
    "class Solution:\n",
    "    def reverseBetween(self, head: ListNode, m: int, n: int) -> ListNode:\n",
    "        dummy=ListNode(0)\n",
    "        dummy.next=head\n",
    "\n",
    "        cur, prev = head, dummy\n",
    "        for i in range(1,m):\n",
    "            cur=cur.next\n",
    "            prev=prev.next\n",
    "\n",
    "        for i in range(m,n):\n",
    "            temp=cur.next\n",
    "            cur.next=temp.next\n",
    "            temp.next=prev.next\n",
    "            prev.next=temp\n",
    "\n",
    "        return dummy.next"
   ]
  },
  {
   "cell_type": "code",
   "execution_count": 3,
   "metadata": {},
   "outputs": [],
   "source": [
    "# Definition for singly-linked list.\n",
    "# class ListNode:\n",
    "#     def __init__(self, val=0, next=None):\n",
    "#         self.val = val\n",
    "#         self.next = next\n",
    "class Solution:\n",
    "    def reverseBetween(self, head: ListNode, m: int, n: int) -> ListNode:\n",
    "        \n",
    "        ## do it again.\n",
    "        \n",
    "        if not head:\n",
    "            return None\n",
    "        \n",
    "        curr, pre = head, None\n",
    "        while m>1:\n",
    "            pre = curr\n",
    "            curr = curr.next\n",
    "            m -= 1\n",
    "            n -= 1\n",
    "            \n",
    "        pre_tail = pre\n",
    "        tail = curr\n",
    "        while n:\n",
    "            tmp = curr.next\n",
    "            curr.next = pre\n",
    "            pre = curr\n",
    "            curr = tmp\n",
    "            n -= 1\n",
    "        if pre_tail:\n",
    "            pre_tail.next = pre\n",
    "        else:\n",
    "            head = pre\n",
    "        tail.next = curr\n",
    "        return head"
   ]
  },
  {
   "cell_type": "code",
   "execution_count": null,
   "metadata": {},
   "outputs": [],
   "source": [
    "class Solution:\n",
    "    def reverseBetween(self, head: ListNode, m: int, n: int) -> ListNode:\n",
    "        \n",
    "        if not head or m == n: \n",
    "            return head\n",
    "        \n",
    "        p = dummy = ListNode(None)\n",
    "        p.next = curr = head\n",
    "        \n",
    "        for i in range(m-1): \n",
    "            p = p.next\n",
    "            \n",
    "        t = p.next\n",
    "        #print(p.val, t.val)\n",
    "        for i in range(n-m):\n",
    "            p.next, p.next.next, t.next = t.next, p.next, t.next.next\n",
    "            '''\n",
    "            while curr:\n",
    "                print(curr.val, end = \" \")\n",
    "                curr = curr.next\n",
    "            print()\n",
    "            curr = head\n",
    "            '''\n",
    "            \n",
    "        return dummy.next"
   ]
  }
 ],
 "metadata": {
  "kernelspec": {
   "display_name": "aiffel",
   "language": "python",
   "name": "aiffel"
  },
  "language_info": {
   "codemirror_mode": {
    "name": "ipython",
    "version": 3
   },
   "file_extension": ".py",
   "mimetype": "text/x-python",
   "name": "python",
   "nbconvert_exporter": "python",
   "pygments_lexer": "ipython3",
   "version": "3.7.6"
  }
 },
 "nbformat": 4,
 "nbformat_minor": 4
}
